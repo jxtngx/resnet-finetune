{
 "cells": [
  {
   "attachments": {},
   "cell_type": "markdown",
   "metadata": {},
   "source": [
    "# Training a Hugging Face image classifier with PyTorch Lightning"
   ]
  },
  {
   "attachments": {},
   "cell_type": "markdown",
   "metadata": {},
   "source": [
    "Running the following cells will train the model using the model and Trainer flags that are shown."
   ]
  },
  {
   "cell_type": "code",
   "execution_count": null,
   "metadata": {},
   "outputs": [],
   "source": [
    "from datetime import datetime\n",
    "\n",
    "import torch\n",
    "\n",
    "import lightning.pytorch as pl\n",
    "from lightning.pytorch.callbacks import EarlyStopping, ModelCheckpoint\n",
    "from lightning.pytorch.loggers import CSVLogger\n",
    "from lightning.pytorch.profilers import PyTorchProfiler\n",
    "\n",
    "from datamodule import AutoImageProcessorDataModule\n",
    "from module import ImageClassificationModule\n",
    "from utils import create_dirs\n",
    "from config import Config, DataModuleConfig, ModuleConfig"
   ]
  },
  {
   "attachments": {},
   "cell_type": "markdown",
   "metadata": {},
   "source": [
    "First, let's configure our settings"
   ]
  },
  {
   "cell_type": "code",
   "execution_count": null,
   "metadata": {},
   "outputs": [],
   "source": [
    "# model and dataset\n",
    "model_name = ModuleConfig.model_name\n",
    "batch_size = 16\n",
    "lr = 5e-05\n",
    "dataset_name = DataModuleConfig.dataset_name\n",
    "\n",
    "# paths\n",
    "cache_dir = Config.cache_dir\n",
    "log_dir = Config.log_dir\n",
    "ckpt_dir = Config.ckpt_dir\n",
    "prof_dir = Config.prof_dir\n",
    "perf_dir = Config.perf_dir\n",
    "# creates dirs to avoid failure if empty dir has been deleted\n",
    "create_dirs([cache_dir, log_dir, ckpt_dir, prof_dir, perf_dir])\n",
    "\n",
    "# set matmul precision\n",
    "# see https://pytorch.org/docs/stable/generated/torch.set_float32_matmul_precision.html\n",
    "torch.set_float32_matmul_precision(\"medium\")"
   ]
  },
  {
   "cell_type": "markdown",
   "metadata": {},
   "source": [
    "Now, we can define our LightningDataModule, which will be used by Trainer for its DataLoaders"
   ]
  },
  {
   "cell_type": "code",
   "execution_count": null,
   "metadata": {},
   "outputs": [],
   "source": [
    "lit_datamodule = AutoImageProcessorDataModule(\n",
    "    model_name=model_name,\n",
    "    dataset_name=dataset_name,\n",
    "    cache_dir=cache_dir,\n",
    "    batch_size=batch_size,\n",
    ")"
   ]
  },
  {
   "attachments": {},
   "cell_type": "markdown",
   "metadata": {},
   "source": [
    "Here's our [custom LightningModule](module.py) equipped with ResNet.\n",
    "\n",
    "LightningModules are the second most important feature of PyTorch Lightning's Core API after Trainer, as this is the class that Trainer interacts with to train the model. <br>\n",
    "Be sure to check out the code contained in the [module.py](module.py) to gain an understanding of how LightningModule is used 🙂"
   ]
  },
  {
   "cell_type": "code",
   "execution_count": null,
   "metadata": {},
   "outputs": [],
   "source": [
    "lit_model = ImageClassificationModule(learning_rate=lr)"
   ]
  },
  {
   "attachments": {},
   "cell_type": "markdown",
   "metadata": {},
   "source": [
    "next - we are going to define some common callbacks, and our most basic logger - CSVLogger.\n",
    "\n",
    "EarlyStopping callback helps us to end training early if a convergence criteria is met before the max-iteration setting is reached.\n",
    "\n",
    "ModelCheckpoint saves the model periodically, and after training finishes, uses best_model_path to retrieve the path to the best checkpoint file and best_model_score to retrieve its score."
   ]
  },
  {
   "cell_type": "code",
   "execution_count": null,
   "metadata": {},
   "outputs": [],
   "source": [
    "callbacks = [\n",
    "    EarlyStopping(monitor=\"val-acc\", mode=\"min\"),\n",
    "    ModelCheckpoint(\n",
    "        dirpath=ckpt_dir,\n",
    "        filename=\"model\",\n",
    "    ),\n",
    "]"
   ]
  },
  {
   "cell_type": "code",
   "execution_count": null,
   "metadata": {},
   "outputs": [],
   "source": [
    "logger = CSVLogger(\n",
    "    save_dir=log_dir,\n",
    "    name=\"csv-logs\",\n",
    ")"
   ]
  },
  {
   "attachments": {},
   "cell_type": "markdown",
   "metadata": {},
   "source": [
    "Finally – we create our Trainer and pass in our flags (settings), the callbacks and loggers.  Then we call fit!"
   ]
  },
  {
   "cell_type": "code",
   "execution_count": null,
   "metadata": {},
   "outputs": [],
   "source": [
    "lit_trainer = pl.Trainer(\n",
    "    accelerator=\"auto\",\n",
    "    devices=\"auto\",\n",
    "    strategy=\"auto\",\n",
    "    precision=\"16-mixed\",\n",
    "    max_epochs=10,\n",
    "    deterministic=True,\n",
    "    logger=logger,\n",
    "    callbacks=callbacks,\n",
    ")"
   ]
  },
  {
   "cell_type": "code",
   "execution_count": null,
   "metadata": {},
   "outputs": [],
   "source": [
    "lit_trainer.fit(model=lit_model, datamodule=lit_datamodule)"
   ]
  }
 ],
 "metadata": {
  "kernelspec": {
   "display_name": "Python 3",
   "language": "python",
   "name": "python3"
  },
  "language_info": {
   "codemirror_mode": {
    "name": "ipython",
    "version": 3
   },
   "file_extension": ".py",
   "mimetype": "text/x-python",
   "name": "python",
   "nbconvert_exporter": "python",
   "pygments_lexer": "ipython3",
   "version": "3.10.10"
  },
  "orig_nbformat": 4
 },
 "nbformat": 4,
 "nbformat_minor": 2
}
